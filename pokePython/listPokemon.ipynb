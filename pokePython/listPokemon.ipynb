{
 "cells": [
  {
   "cell_type": "code",
   "execution_count": 21,
   "metadata": {
    "scrolled": true
   },
   "outputs": [
    {
     "data": {
      "text/html": [
       "<div>\n",
       "<style scoped>\n",
       "    .dataframe tbody tr th:only-of-type {\n",
       "        vertical-align: middle;\n",
       "    }\n",
       "\n",
       "    .dataframe tbody tr th {\n",
       "        vertical-align: top;\n",
       "    }\n",
       "\n",
       "    .dataframe thead th {\n",
       "        text-align: right;\n",
       "    }\n",
       "</style>\n",
       "<table border=\"1\" class=\"dataframe\">\n",
       "  <thead>\n",
       "    <tr style=\"text-align: right;\">\n",
       "      <th></th>\n",
       "      <th>type</th>\n",
       "      <th>name</th>\n",
       "      <th>tbl_name</th>\n",
       "      <th>rootpage</th>\n",
       "      <th>sql</th>\n",
       "    </tr>\n",
       "  </thead>\n",
       "  <tbody>\n",
       "    <tr>\n",
       "      <td>0</td>\n",
       "      <td>index</td>\n",
       "      <td>ix_pokemon_Number</td>\n",
       "      <td>pokemon</td>\n",
       "      <td>3</td>\n",
       "      <td>CREATE INDEX \"ix_pokemon_Number\"ON \"pokemon\" (...</td>\n",
       "    </tr>\n",
       "    <tr>\n",
       "      <td>1</td>\n",
       "      <td>table</td>\n",
       "      <td>pokemon</td>\n",
       "      <td>pokemon</td>\n",
       "      <td>2</td>\n",
       "      <td>CREATE TABLE \"pokemon\" (\\n\"Number\" INTEGER,\\n ...</td>\n",
       "    </tr>\n",
       "  </tbody>\n",
       "</table>\n",
       "</div>"
      ],
      "text/plain": [
       "    type               name tbl_name  rootpage  \\\n",
       "0  index  ix_pokemon_Number  pokemon         3   \n",
       "1  table            pokemon  pokemon         2   \n",
       "\n",
       "                                                 sql  \n",
       "0  CREATE INDEX \"ix_pokemon_Number\"ON \"pokemon\" (...  \n",
       "1  CREATE TABLE \"pokemon\" (\\n\"Number\" INTEGER,\\n ...  "
      ]
     },
     "execution_count": 21,
     "metadata": {},
     "output_type": "execute_result"
    }
   ],
   "source": [
    "import pandas as pd\n",
    "import sqlite3\n",
    "import os\n",
    "\n",
    "# create the sqlite DB\n",
    "db = sqlite3.connect(\"Data/pokemon.db\")\n",
    "\n",
    "# read CSV into dataframe\n",
    "df1 = pd.read_csv(\"Data/pokemondata.csv\", header=0, index_col=0)\n",
    "\n",
    "# convert the pandas dataframe to a sqlite table\n",
    "df1.to_sql(\"pokemon\", db, if_exists=\"replace\")\n",
    "\n",
    "def run_query(query):\n",
    "    return pd.read_sql_query(query,db)\n",
    "\n",
    "os.getcwd()\n",
    "\n",
    "\n",
    "\n",
    "query = \"\"\"\n",
    "SELECT * \n",
    "FROM sqlite_master\n",
    "ORDER BY name;\n",
    "\"\"\"\n",
    "run_query(query)\n"
   ]
  },
  {
   "cell_type": "code",
   "execution_count": 22,
   "metadata": {},
   "outputs": [
    {
     "data": {
      "text/html": [
       "<div>\n",
       "<style scoped>\n",
       "    .dataframe tbody tr th:only-of-type {\n",
       "        vertical-align: middle;\n",
       "    }\n",
       "\n",
       "    .dataframe tbody tr th {\n",
       "        vertical-align: top;\n",
       "    }\n",
       "\n",
       "    .dataframe thead th {\n",
       "        text-align: right;\n",
       "    }\n",
       "</style>\n",
       "<table border=\"1\" class=\"dataframe\">\n",
       "  <thead>\n",
       "    <tr style=\"text-align: right;\">\n",
       "      <th></th>\n",
       "      <th>cid</th>\n",
       "      <th>name</th>\n",
       "      <th>type</th>\n",
       "      <th>notnull</th>\n",
       "      <th>dflt_value</th>\n",
       "      <th>pk</th>\n",
       "    </tr>\n",
       "  </thead>\n",
       "  <tbody>\n",
       "  </tbody>\n",
       "</table>\n",
       "</div>"
      ],
      "text/plain": [
       "Empty DataFrame\n",
       "Columns: [cid, name, type, notnull, dflt_value, pk]\n",
       "Index: []"
      ]
     },
     "execution_count": 22,
     "metadata": {},
     "output_type": "execute_result"
    }
   ],
   "source": [
    "# get information about my staging table \n",
    "query_table_help = \"\"\"\n",
    "select * from PRAGMA_TABLE_INFO('stage_pokemon_cleaned');\n",
    "\"\"\"\n",
    "run_query(query_table_help)"
   ]
  },
  {
   "cell_type": "code",
   "execution_count": 28,
   "metadata": {},
   "outputs": [
    {
     "data": {
      "text/html": [
       "<div>\n",
       "<style scoped>\n",
       "    .dataframe tbody tr th:only-of-type {\n",
       "        vertical-align: middle;\n",
       "    }\n",
       "\n",
       "    .dataframe tbody tr th {\n",
       "        vertical-align: top;\n",
       "    }\n",
       "\n",
       "    .dataframe thead th {\n",
       "        text-align: right;\n",
       "    }\n",
       "</style>\n",
       "<table border=\"1\" class=\"dataframe\">\n",
       "  <thead>\n",
       "    <tr style=\"text-align: right;\">\n",
       "      <th></th>\n",
       "      <th>Number</th>\n",
       "      <th>Name</th>\n",
       "      <th>Generation</th>\n",
       "      <th>About</th>\n",
       "      <th>Types/0</th>\n",
       "      <th>Types/1</th>\n",
       "      <th>Weight/Minimum</th>\n",
       "      <th>Weight/Maximum</th>\n",
       "      <th>Height/Minimum</th>\n",
       "      <th>Height/Maximum</th>\n",
       "      <th>Base Stamina</th>\n",
       "      <th>Base Attack</th>\n",
       "      <th>Base Defense</th>\n",
       "      <th>Base Flee Rate</th>\n",
       "      <th>MaxCP</th>\n",
       "      <th>MaxHP</th>\n",
       "    </tr>\n",
       "  </thead>\n",
       "  <tbody>\n",
       "    <tr>\n",
       "      <td>0</td>\n",
       "      <td>1</td>\n",
       "      <td>Bulbasaur</td>\n",
       "      <td>Generation I</td>\n",
       "      <td>Bulbasaur can be seen napping in bright sunlig...</td>\n",
       "      <td>Grass</td>\n",
       "      <td>Poison</td>\n",
       "      <td>6.04kg</td>\n",
       "      <td>7.76kg</td>\n",
       "      <td>0.61m</td>\n",
       "      <td>0.79m</td>\n",
       "      <td>90 stamina points.</td>\n",
       "      <td>118 attack points.</td>\n",
       "      <td>118 defense points.</td>\n",
       "      <td>10% chance to flee.</td>\n",
       "      <td>951</td>\n",
       "      <td>1071</td>\n",
       "    </tr>\n",
       "  </tbody>\n",
       "</table>\n",
       "</div>"
      ],
      "text/plain": [
       "   Number       Name    Generation  \\\n",
       "0       1  Bulbasaur  Generation I   \n",
       "\n",
       "                                               About Types/0 Types/1  \\\n",
       "0  Bulbasaur can be seen napping in bright sunlig...   Grass  Poison   \n",
       "\n",
       "  Weight/Minimum Weight/Maximum Height/Minimum Height/Maximum  \\\n",
       "0         6.04kg         7.76kg          0.61m          0.79m   \n",
       "\n",
       "         Base Stamina         Base Attack         Base Defense  \\\n",
       "0  90 stamina points.  118 attack points.  118 defense points.   \n",
       "\n",
       "        Base Flee Rate  MaxCP  MaxHP  \n",
       "0  10% chance to flee.    951   1071  "
      ]
     },
     "execution_count": 28,
     "metadata": {},
     "output_type": "execute_result"
    }
   ],
   "source": [
    "\n",
    "query_poke_count = \"\"\"\n",
    "select *\n",
    "from pokemon\n",
    "\n",
    "ORDER BY \"name\" asc;\n",
    "\"\"\"\n",
    "\n",
    "run_query(query_poke_count)"
   ]
  },
  {
   "cell_type": "code",
   "execution_count": null,
   "metadata": {},
   "outputs": [],
   "source": []
  }
 ],
 "metadata": {
  "kernelspec": {
   "display_name": "Python 3",
   "language": "python",
   "name": "python3"
  },
  "language_info": {
   "codemirror_mode": {
    "name": "ipython",
    "version": 3
   },
   "file_extension": ".py",
   "mimetype": "text/x-python",
   "name": "python",
   "nbconvert_exporter": "python",
   "pygments_lexer": "ipython3",
   "version": "3.7.4"
  }
 },
 "nbformat": 4,
 "nbformat_minor": 2
}
