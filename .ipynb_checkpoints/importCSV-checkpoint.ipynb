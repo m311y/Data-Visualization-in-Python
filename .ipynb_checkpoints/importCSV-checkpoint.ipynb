{
 "cells": [
  {
   "cell_type": "code",
   "execution_count": 2,
   "metadata": {},
   "outputs": [
    {
     "data": {
      "text/plain": [
       "'C:\\\\Users\\\\Melly\\\\Desktop\\\\python_project_one'"
      ]
     },
     "execution_count": 2,
     "metadata": {},
     "output_type": "execute_result"
    }
   ],
   "source": [
    "import pandas as pd\n",
    "import zipfile as z\n",
    "import pathlib\n",
    "import os\n",
    "\n",
    "os.getcwd()"
   ]
  },
  {
   "cell_type": "code",
   "execution_count": 3,
   "metadata": {},
   "outputs": [
    {
     "name": "stdout",
     "output_type": "stream",
     "text": [
      "Collecting pokebase\n",
      "  Downloading https://files.pythonhosted.org/packages/53/46/5f3bd6926dfbf7c8db7eab81af01267d6fec4aee3e88c889d61ada7eabb7/pokebase-1.2.0.tar.gz\n",
      "Requirement already satisfied: requests in c:\\users\\melly\\anaconda3\\lib\\site-packages (from pokebase) (2.22.0)\n",
      "Requirement already satisfied: idna<2.9,>=2.5 in c:\\users\\melly\\anaconda3\\lib\\site-packages (from requests->pokebase) (2.8)\n",
      "Requirement already satisfied: certifi>=2017.4.17 in c:\\users\\melly\\anaconda3\\lib\\site-packages (from requests->pokebase) (2019.9.11)\n",
      "Requirement already satisfied: urllib3!=1.25.0,!=1.25.1,<1.26,>=1.21.1 in c:\\users\\melly\\anaconda3\\lib\\site-packages (from requests->pokebase) (1.24.2)\n",
      "Requirement already satisfied: chardet<3.1.0,>=3.0.2 in c:\\users\\melly\\anaconda3\\lib\\site-packages (from requests->pokebase) (3.0.4)\n",
      "Building wheels for collected packages: pokebase\n",
      "  Building wheel for pokebase (setup.py): started\n",
      "  Building wheel for pokebase (setup.py): finished with status 'done'\n",
      "  Created wheel for pokebase: filename=pokebase-1.2.0-cp37-none-any.whl size=10528 sha256=35b8d72858a55a34f4f434e6890a2fc44f1f8cc5ef54d5c1602166a531286ad8\n",
      "  Stored in directory: C:\\Users\\Melly\\AppData\\Local\\pip\\Cache\\wheels\\24\\b8\\1e\\a589633745d72e050e26776779f1a8fcfe64617c20dbab2d0c\n",
      "Successfully built pokebase\n",
      "Installing collected packages: pokebase\n",
      "Successfully installed pokebase-1.2.0\n",
      "Note: you may need to restart the kernel to use updated packages.\n"
     ]
    }
   ],
   "source": [
    "pip install pokebase"
   ]
  },
  {
   "cell_type": "code",
   "execution_count": null,
   "metadata": {},
   "outputs": [],
   "source": []
  }
 ],
 "metadata": {
  "kernelspec": {
   "display_name": "Python 3",
   "language": "python",
   "name": "python3"
  },
  "language_info": {
   "codemirror_mode": {
    "name": "ipython",
    "version": 3
   },
   "file_extension": ".py",
   "mimetype": "text/x-python",
   "name": "python",
   "nbconvert_exporter": "python",
   "pygments_lexer": "ipython3",
   "version": "3.7.4"
  }
 },
 "nbformat": 4,
 "nbformat_minor": 2
}
